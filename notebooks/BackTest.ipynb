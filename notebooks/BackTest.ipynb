{
 "cells": [
  {
   "cell_type": "markdown",
   "metadata": {},
   "source": [
    "# Back Test Analysis\n",
    "\n",
    "This notebook implements a comprehensive pairs trading strategy for BTC-USDT and ETH-USDT cryptocurrency pairs. It incorporates robust statistical analysis, dynamic hedge ratio calculation, and complete backtesting framework."
   ]
  },
  {
   "cell_type": "markdown",
   "metadata": {},
   "source": [
    "## 1. Imports and Setup"
   ]
  },
  {
   "cell_type": "code",
   "execution_count": null,
   "metadata": {},
   "outputs": [],
   "source": [
    "import pandas as pd\n",
    "import numpy as np\n",
    "import matplotlib.pyplot as plt\n",
    "import seaborn as sns\n",
    "from statsmodels.tsa.stattools import coint, adfuller\n",
    "import statsmodels.api as sm\n",
    "import os\n",
    "\n",
    "# Set style for better visualizations\n",
    "plt.style.use('seaborn-v0_8-whitegrid')\n",
    "\n",
    "# Create docs directory for saving plots\n",
    "os.makedirs('docs', exist_ok=True)"
   ]
  },
  {
   "cell_type": "markdown",
   "metadata": {},
   "source": [
    "## 2. Helper Functions"
   ]
  },
  {
   "cell_type": "code",
   "execution_count": null,
   "metadata": {},
   "outputs": [],
   "source": [
    "# Function to run linear regression\n",
    "def lin_reg(X, Y):\n",
    "    X = sm.add_constant(X)\n",
    "    model = sm.OLS(Y, X).fit()\n",
    "    params = model.params\n",
    "    return params"
   ]
  },
  {
   "cell_type": "markdown",
   "metadata": {},
   "source": [
    "## 3. Load and Prepare Data"
   ]
  },
  {
   "cell_type": "code",
   "execution_count": null,
   "metadata": {},
   "outputs": [],
   "source": [
    "print(\"Loading BTC-USDT and ETH-USDT data...\")\n",
    "\n",
    "# Load the data\n",
    "btcusdt = pd.read_csv('../data/btcusdt_1m_raw.csv')\n",
    "ethusdt = pd.read_csv('../data/ethusdt_1m_raw.csv')\n",
    "\n",
    "# Basic data exploration\n",
    "print(\"BTCUSDT data shape:\", btcusdt.shape)\n",
    "print(\"ETHUSDT data shape:\", ethusdt.shape)"
   ]
  },
  {
   "cell_type": "code",
   "execution_count": null,
   "metadata": {},
   "outputs": [],
   "source": [
    "# Convert timestamp to datetime if not already done\n",
    "btcusdt['datetime'] = pd.to_datetime(btcusdt['datetime'])\n",
    "ethusdt['datetime'] = pd.to_datetime(ethusdt['datetime'])\n",
    "\n",
    "# Set datetime as index\n",
    "btcusdt.set_index('datetime', inplace=True)\n",
    "ethusdt.set_index('datetime', inplace=True)\n",
    "\n",
    "# Check data info\n",
    "print(\"BTCUSDT date range:\", btcusdt.index.min(), \"to\", btcusdt.index.max())\n",
    "print(\"ETHUSDT date range:\", ethusdt.index.min(), \"to\", ethusdt.index.max())"
   ]
  },
  {
   "cell_type": "code",
   "execution_count": null,
   "metadata": {},
   "outputs": [],
   "source": [
    "# Resample to hourly data to reduce noise\n",
    "btcusdt_hourly = btcusdt['close'].resample('1H').last()\n",
    "ethusdt_hourly = ethusdt['close'].resample('1H').last()\n",
    "\n",
    "# Ensure we're working with common timestamps\n",
    "common_index = btcusdt_hourly.index.intersection(ethusdt_hourly.index)\n",
    "btc_aligned = btcusdt_hourly.loc[common_index]\n",
    "eth_aligned = ethusdt_hourly.loc[common_index]\n",
    "\n",
    "print(f\"Length of aligned hourly data: {len(btc_aligned)}\")"
   ]
  },
  {
   "cell_type": "markdown",
   "metadata": {},
   "source": [
    "## 4. Train-Test Split\n",
    "\n",
    "We'll split our data into training (80%) and testing (20%) periods to develop our model on historical data and evaluate it on out-of-sample data."
   ]
  },
  {
   "cell_type": "code",
   "execution_count": null,
   "metadata": {},
   "outputs": [],
   "source": [
    "# Split data into training and testing periods (80% train, 20% test)\n",
    "train_size = int(len(btc_aligned) * 0.8)\n",
    "btc_train = btc_aligned[:train_size]\n",
    "eth_train = eth_aligned[:train_size]\n",
    "btc_test = btc_aligned[train_size:]\n",
    "eth_test = eth_aligned[train_size:]\n",
    "\n",
    "print(f\"Train period: {btc_train.index.min()} to {btc_train.index.max()}\")\n",
    "print(f\"Test period: {btc_test.index.min()} to {btc_test.index.max()}\")"
   ]
  },
  {
   "cell_type": "code",
   "execution_count": null,
   "metadata": {},
   "outputs": [],
   "source": [
    "# Calculate basic statistics for training data\n",
    "btc_stats = btc_train.describe()\n",
    "eth_stats = eth_train.describe()\n",
    "\n",
    "stats_df = pd.DataFrame({\n",
    "    'BTC-USDT': btc_stats,\n",
    "    'ETH-USDT': eth_stats\n",
    "})\n",
    "\n",
    "print(\"\\nTraining Data Statistics:\")\n",
    "print(stats_df)"
   ]
  },
  {
   "cell_type": "markdown",
   "metadata": {},
   "source": [
    "## 5. Pair Selection Analysis"
   ]
  },
  {
   "cell_type": "code",
   "execution_count": null,
   "metadata": {},
   "outputs": [],
   "source": [
    "# Normalize price series for visualization\n",
    "btc_norm = btc_train / btc_train.iloc[0]\n",
    "eth_norm = eth_train / eth_train.iloc[0]\n",
    "\n",
    "# Visualize normalized price movements\n",
    "plt.figure(figsize=(14, 7))\n",
    "plt.plot(btc_norm.index, btc_norm, label='BTC-USDT (Normalized)')\n",
    "plt.plot(eth_norm.index, eth_norm, label='ETH-USDT (Normalized)')\n",
    "plt.title('Normalized Price Movements (Training Period)', fontsize=14)\n",
    "plt.xlabel('Date')\n",
    "plt.ylabel('Normalized Price')\n",
    "plt.legend()\n",
    "plt.grid(True, alpha=0.3)\n",
    "plt.savefig('docs/normalized_prices.png', dpi=300, bbox_inches='tight')\n",
    "plt.show()"
   ]
  },
  {
   "cell_type": "code",
   "execution_count": null,
   "metadata": {},
   "outputs": [],
   "source": [
    "# Calculate Sum of Squared Differences (SSD)\n",
    "ssd = ((btc_norm - eth_norm) ** 2).sum()\n",
    "print(f\"\\nSum of Squared Differences (SSD): {ssd:.4f}\")\n",
    "\n",
    "# Calculate price correlation\n",
    "price_correlation = btc_train.corr(eth_train)\n",
    "print(f\"Price correlation between BTC-USDT and ETH-USDT: {price_correlation:.4f}\")"
   ]
  },
  {
   "cell_type": "code",
   "execution_count": null,
   "metadata": {},
   "outputs": [],
   "source": [
    "# Test for cointegration\n",
    "score, pvalue, _ = coint(btc_train, eth_train)\n",
    "print(f\"Cointegration p-value: {pvalue:.4f}\")\n",
    "print(f\"Pairs are {'cointegrated' if pvalue < 0.05 else 'not cointegrated'} at 5% significance level\")"
   ]
  },
  {
   "cell_type": "markdown",
   "metadata": {},
   "source": [
    "## 6. Spread Modeling \n",
    "\n",
    "Calculate the hedge ratio and analyze the spread between BTC-USDT and ETH-USDT."
   ]
  },
  {
   "cell_type": "code",
   "execution_count": null,
   "metadata": {},
   "outputs": [],
   "source": [
    "# Perform linear regression to find hedge ratio\n",
    "intercept, hedge_ratio = lin_reg(btc_train, eth_train)\n",
    "print(f\"\\nHedge Ratio: {hedge_ratio:.4f}\")\n",
    "print(f\"Intercept: {intercept:.4f}\")\n",
    "\n",
    "# Visualize the relationship with regression line\n",
    "plt.figure(figsize=(10, 6))\n",
    "plt.scatter(btc_train, eth_train, alpha=0.5, label='Train Data')\n",
    "x_line = np.linspace(min(btc_train), max(btc_train), 100)\n",
    "y_line = hedge_ratio * x_line + intercept\n",
    "plt.plot(x_line, y_line, 'r', label=f'y = {hedge_ratio:.4f}x + {intercept:.4f}')\n",
    "plt.title('Linear Regression of ETH-USDT vs BTC-USDT (Train Period)')\n",
    "plt.xlabel('BTC-USDT Price')\n",
    "plt.ylabel('ETH-USDT Price')\n",
    "plt.legend()\n",
    "plt.grid(True, alpha=0.3)\n",
    "plt.savefig('docs/regression.png', dpi=300, bbox_inches='tight')\n",
    "plt.show()"
   ]
  },
  {
   "cell_type": "code",
   "execution_count": null,
   "metadata": {},
   "outputs": [],
   "source": [
    "# Calculate spread during training period\n",
    "train_spread = eth_train - hedge_ratio * btc_train\n",
    "\n",
    "# Test spread for stationarity\n",
    "adf_result = adfuller(train_spread.dropna())\n",
    "print(f\"ADF Statistic: {adf_result[0]:.4f}\")\n",
    "print(f\"p-value: {adf_result[1]:.4f}\")\n",
    "print(f\"The spread is {'stationary' if adf_result[1] < 0.05 else 'non-stationary'} at 5% significance level\")"
   ]
  },
  {
   "cell_type": "code",
   "execution_count": null,
   "metadata": {},
   "outputs": [],
   "source": [
    "# Visualize the training spread\n",
    "plt.figure(figsize=(12, 6))\n",
    "plt.plot(train_spread.index, train_spread)\n",
    "plt.axhline(y=train_spread.mean(), color='r', linestyle='-', label=f'Mean: {train_spread.mean():.2f}')\n",
    "plt.axhline(y=train_spread.mean() + 2*train_spread.std(), color='g', linestyle='--', label='Upper Threshold (2σ)')\n",
    "plt.axhline(y=train_spread.mean() - 2*train_spread.std(), color='g', linestyle='--', label='Lower Threshold (2σ)')\n",
    "plt.title('Spread Between ETH-USDT and BTC-USDT (Train Period)')\n",
    "plt.xlabel('Date')\n",
    "plt.ylabel('Spread')\n",
    "plt.legend()\n",
    "plt.grid(True, alpha=0.3)\n",
    "plt.savefig('docs/train_spread.png', dpi=300, bbox_inches='tight')\n",
    "plt.show()"
   ]
  },
  {
   "cell_type": "code",
   "execution_count": null,
   "metadata": {},
   "outputs": [],
   "source": [
    "# Calculate z-score with rolling window\n",
    "train_window = 24  # 24 hours = 1 day rolling window\n",
    "train_rolling_mean = train_spread.rolling(window=train_window).mean()\n",
    "train_rolling_std = train_spread.rolling(window=train_window).std()\n",
    "train_z_score = (train_spread - train_rolling_mean) / train_rolling_std\n",
    "\n",
    "# Visualize z-score for training period\n",
    "plt.figure(figsize=(12, 6))\n",
    "plt.plot(train_z_score.dropna())\n",
    "plt.axhline(y=0, color='black', linestyle='-')\n",
    "plt.axhline(y=1.5, color='r', linestyle='--', label='Entry Threshold (1.5)')\n",
    "plt.axhline(y=-1.5, color='r', linestyle='--')\n",
    "plt.axhline(y=0.5, color='g', linestyle='--', label='Exit Threshold (0.5)')\n",
    "plt.axhline(y=-0.5, color='g', linestyle='--')\n",
    "plt.title('Z-score of BTC-USDT and ETH-USDT Spread (Train Period)', fontsize=14)\n",
    "plt.legend()\n",
    "plt.grid(True, alpha=0.3)\n",
    "plt.savefig('docs/train_zscore.png', dpi=300, bbox_inches='tight')\n",
    "plt.show()"
   ]
  },
  {
   "cell_type": "markdown",
   "metadata": {},
   "source": [
    "## 7. Rolling Hedge Ratio and Test Period Analysis\n",
    "\n",
    "Implement a dynamic hedge ratio calculation for the test period."
   ]
  },
  {
   "cell_type": "code",
   "execution_count": null,
   "metadata": {},
   "outputs": [],
   "source": [
    "print(\"\\nCalculating rolling hedge ratios for test period...\")\n",
    "window_size = 24  # 24 hours rolling window\n",
    "rolling_hedge_ratios = pd.Series(index=btc_test.index, dtype=float)\n",
    "test_spread_mean = pd.Series(index=btc_test.index, dtype=float)\n",
    "test_spread_std = pd.Series(index=btc_test.index, dtype=float)\n",
    "\n",
    "for i in range(window_size, len(btc_test) + 1):\n",
    "    window_btc = btc_test.iloc[i - window_size:i]\n",
    "    window_eth = eth_test.iloc[i - window_size:i]\n",
    "    \n",
    "    # Compute rolling hedge ratio\n",
    "    _, rolling_hedge = lin_reg(window_btc, window_eth)\n",
    "    rolling_hedge_ratios.iloc[i - 1] = rolling_hedge\n",
    "    \n",
    "    # Compute window spread statistics\n",
    "    window_spread = window_eth - rolling_hedge * window_btc\n",
    "    test_spread_mean.iloc[i - 1] = window_spread.mean()\n",
    "    test_spread_std.iloc[i - 1] = window_spread.std()"
   ]
  },
  {
   "cell_type": "code",
   "execution_count": null,
   "metadata": {},
   "outputs": [],
   "source": [
    "# Calculate spread for test period using rolling hedge ratios\n",
    "test_spread = eth_test - rolling_hedge_ratios * btc_test\n",
    "\n",
    "# Visualize test spread and rolling hedge ratio\n",
    "fig, axes = plt.subplots(2, 1, figsize=(12, 10), sharex=True)\n",
    "\n",
    "# Plot test spread\n",
    "axes[0].plot(test_spread.index, test_spread, label='Test Spread')\n",
    "axes[0].plot(test_spread_mean.index, test_spread_mean, label='Rolling Mean', color='red')\n",
    "axes[0].set_title('Test Spread and Rolling Mean')\n",
    "axes[0].set_ylabel('Spread')\n",
    "axes[0].legend()\n",
    "axes[0].grid(True, alpha=0.3)\n",
    "\n",
    "# Plot rolling hedge ratio\n",
    "axes[1].plot(rolling_hedge_ratios.index, rolling_hedge_ratios)\n",
    "axes[1].set_title('Rolling Hedge Ratio')\n",
    "axes[1].set_xlabel('Date')\n",
    "axes[1].set_ylabel('Hedge Ratio')\n",
    "axes[1].grid(True, alpha=0.3)\n",
    "\n",
    "plt.tight_layout()\n",
    "plt.savefig('docs/test_spread_and_hedge_ratio.png', dpi=300, bbox_inches='tight')\n",
    "plt.show()"
   ]
  },
  {
   "cell_type": "code",
   "execution_count": null,
   "metadata": {},
   "outputs": [],
   "source": [
    "# Calculate z-score (normalized spread)\n",
    "z_score = (test_spread - test_spread_mean) / test_spread_std\n",
    "\n",
    "# Visualize normalized spread (z-score)\n",
    "plt.figure(figsize=(12, 6))\n",
    "plt.plot(z_score.index, z_score, label='Z-Score')\n",
    "plt.axhline(y=0, color='black', linestyle='-')\n",
    "plt.axhline(y=1.5, color='r', linestyle='--', label='Entry Threshold (1.5)')\n",
    "plt.axhline(y=-1.5, color='g', linestyle='--', label='Entry Threshold (-1.5)')\n",
    "plt.axhline(y=0.5, color='orange', linestyle='--', label='Exit Threshold (0.5)')\n",
    "plt.axhline(y=-0.5, color='orange', linestyle='--', label='Exit Threshold (-0.5)')\n",
    "plt.title('Z-Score of ETH-USDT and BTC-USDT Spread (Test Period)')\n",
    "plt.xlabel('Date')\n",
    "plt.ylabel('Z-Score')\n",
    "plt.legend()\n",
    "plt.grid(True, alpha=0.3)\n",
    "plt.savefig('docs/test_zscore.png', dpi=300, bbox_inches='tight')\n",
    "plt.show()"
   ]
  },
  {
   "cell_type": "markdown",
   "metadata": {},
   "source": [
    "## 8. Backtesting Framework\n",
    "\n",
    "Implement a complete backtesting framework with trading rules based on z-score signals."
   ]
  },
  {
   "cell_type": "code",
   "execution_count": null,
   "metadata": {},
   "outputs": [],
   "source": [
    "print(\"\\nImplementing backtesting framework...\")\n",
    "\n",
    "# Create strategy dataframe\n",
    "strategy = pd.DataFrame(index=z_score.index)\n",
    "strategy['BTC'] = btc_test\n",
    "strategy['ETH'] = eth_test\n",
    "strategy['Z_Score'] = z_score\n",
    "strategy['Hedge_Ratio'] = rolling_hedge_ratios\n",
    "strategy['Signal'] = 0\n",
    "strategy['Position'] = 0\n",
    "\n",
    "# Drop any NaN values\n",
    "strategy = strategy.dropna()"
   ]
  },
  {
   "cell_type": "code",
   "execution_count": null,
   "metadata": {},
   "outputs": [],
   "source": [
    "# Implement trading rules\n",
    "current_position = 0\n",
    "\n",
    "for i in range(1, len(strategy)):\n",
    "    # Enter long position (buy spread) when z-score < -1.5\n",
    "    if strategy['Z_Score'].iloc[i] < -1.5 and current_position == 0:\n",
    "        strategy['Signal'].iloc[i] = 1\n",
    "        current_position = 1\n",
    "    \n",
    "    # Enter short position (sell spread) when z-score > 1.5\n",
    "    elif strategy['Z_Score'].iloc[i] > 1.5 and current_position == 0:\n",
    "        strategy['Signal'].iloc[i] = -1\n",
    "        current_position = -1\n",
    "    \n",
    "    # Exit long position when z-score crosses above 0.5\n",
    "    elif strategy['Z_Score'].iloc[i] > 0.5 and current_position == 1:\n",
    "        strategy['Signal'].iloc[i] = -1\n",
    "        current_position = 0\n",
    "    \n",
    "    # Exit short position when z-score crosses below -0.5\n",
    "    elif strategy['Z_Score'].iloc[i] < -0.5 and current_position == -1:\n",
    "        strategy['Signal'].iloc[i] = 1\n",
    "        current_position = 0\n",
    "    \n",
    "    # Record current position\n",
    "    strategy['Position'].iloc[i] = current_position"
   ]
  },
  {
   "cell_type": "code",
   "execution_count": null,
   "metadata": {},
   "outputs": [],
   "source": [
    "# Plot buy and sell signals\n",
    "buy_signals = strategy[strategy['Signal'] == 1]\n",
    "sell_signals = strategy[strategy['Signal'] == -1]\n",
    "\n",
    "plt.figure(figsize=(12, 6))\n",
    "plt.plot(strategy.index, strategy['Z_Score'], label='Z-Score')\n",
    "plt.axhline(y=0, color='black', linestyle='-')\n",
    "plt.axhline(y=1.5, color='r', linestyle='--')\n",
    "plt.axhline(y=-1.5, color='g', linestyle='--')\n",
    "plt.axhline(y=0.5, color='orange', linestyle='--')\n",
    "plt.axhline(y=-0.5, color='orange', linestyle='--')\n",
    "plt.scatter(buy_signals.index, buy_signals['Z_Score'], marker='^', color='green', s=100, label='Buy Signal')\n",
    "plt.scatter(sell_signals.index, sell_signals['Z_Score'], marker='v', color='red', s=100, label='Sell Signal')\n",
    "plt.title('Trading Signals Based on Z-Score')\n",
    "plt.xlabel('Date')\n",
    "plt.ylabel('Z-Score')\n",
    "plt.legend()\n",
    "plt.grid(True, alpha=0.3)\n",
    "plt.savefig('docs/trading_signals.png', dpi=300, bbox_inches='tight')\n",
    "plt.show()"
   ]
  },
  {
   "cell_type": "markdown",
   "metadata": {},
   "source": [
    "## 9. Performance Analysis\n",
    "\n",
    "Calculate returns and performance metrics for the strategy."
   ]
  },
  {
   "cell_type": "code",
   "execution_count": null,
   "metadata": {},
   "outputs": [],
   "source": [
    "# Calculate returns\n",
    "strategy['BTC_Return'] = np.log(strategy['BTC'] / strategy['BTC'].shift(1))\n",
    "strategy['ETH_Return'] = np.log(strategy['ETH'] / strategy['ETH'].shift(1))\n",
    "strategy['Spread_Return'] = strategy['ETH_Return'] - strategy['Hedge_Ratio'].shift(1) * strategy['BTC_Return']\n",
    "strategy['Strategy_Return'] = strategy['Spread_Return'] * strategy['Position'].shift(1)\n",
    "strategy['Cum_Return'] = strategy['Strategy_Return'].fillna(0).cumsum().apply(np.exp)"
   ]
  },
  {
   "cell_type": "code",
   "execution_count": null,
   "metadata": {},
   "outputs": [],
   "source": [
    "# Calculate trading statistics\n",
    "total_trades = (strategy['Signal'] != 0).sum()\n",
    "winning_trades = ((strategy['Signal'] == 1) & (strategy['Strategy_Return'].shift(-1) > 0)).sum() + \\\n",
    "                ((strategy['Signal'] == -1) & (strategy['Strategy_Return'].shift(-1) < 0)).sum()\n",
    "if total_trades > 0:\n",
    "    win_rate = winning_trades / total_trades\n",
    "else:\n",
    "    win_rate = 0"
   ]
  },
  {
   "cell_type": "code",
   "execution_count": null,
   "metadata": {},
   "outputs": [],
   "source": [
    "# Calculate performance metrics\n",
    "print(\"\\nCalculating performance metrics...\")\n",
    "total_return = strategy['Cum_Return'].iloc[-1] - 1\n",
    "annual_return = (1 + total_return) ** (365 / (len(strategy) / 24)) - 1  # Annualized hourly data\n",
    "sharpe_ratio = strategy['Strategy_Return'].mean() / strategy['Strategy_Return'].std() * np.sqrt(365 * 24)  # Annualized\n",
    "max_drawdown = (strategy['Cum_Return'] / strategy['Cum_Return'].cummax() - 1).min()\n",
    "\n",
    "print(f\"Total Return: {total_return:.4f} ({total_return*100:.2f}%)\")\n",
    "print(f\"Annualized Return: {annual_return:.4f} ({annual_return*100:.2f}%)\")\n",
    "print(f\"Sharpe Ratio: {sharpe_ratio:.4f}\")\n",
    "print(f\"Maximum Drawdown: {max_drawdown:.4f} ({max_drawdown*100:.2f}%)\")\n",
    "print(f\"Win Rate: {win_rate:.4f} ({win_rate*100:.2f}%)\")\n",
    "print(f\"Total Trades: {total_trades}\")"
   ]
  },
  {
   "cell_type": "code",
   "execution_count": null,
   "metadata": {},
   "outputs": [],
   "source": [
    "# Plot cumulative returns\n",
    "plt.figure(figsize=(12, 6))\n",
    "plt.plot(strategy.index, strategy['Cum_Return'])\n",
    "plt.title('Pairs Trading Strategy Cumulative Returns')\n",
    "plt.xlabel('Date')\n",
    "plt.ylabel('Cumulative Return')\n",
    "plt.grid(True, alpha=0.3)\n",
    "plt.savefig('docs/cumulative_returns.png', dpi=300, bbox_inches='tight')\n",
    "plt.show()"
   ]
  },
  {
   "cell_type": "markdown",
   "metadata": {},
   "source": [
    "## 10. Comparison to Buy and Hold\n",
    "\n",
    "Compare the pairs trading strategy to simple buy-and-hold approaches."
   ]
  },
  {
   "cell_type": "code",
   "execution_count": null,
   "metadata": {},
   "outputs": [],
   "source": [
    "# Define ticker names for easier reference\n",
    "ticker_1 = 'BTC'\n",
    "ticker_2 = 'ETH'\n",
    "\n",
    "# Rename your test data to match the expected variable names\n",
    "test_data = pd.DataFrame({\n",
    "    ticker_1: btc_test,\n",
    "    ticker_2: eth_test\n",
    "})"
   ]
  },
  {
   "cell_type": "code",
   "execution_count": null,
   "metadata": {},
   "outputs": [],
   "source": [
    "# Calculate buy-and-hold performance\n",
    "btc_buy_hold = test_data[ticker_1] / test_data[ticker_1].iloc[0]\n",
    "eth_buy_hold = test_data[ticker_2] / test_data[ticker_2].iloc[0]\n",
    "\n",
    "# Create comparison dataframe\n",
    "comparison = pd.DataFrame(index=strategy.index)\n",
    "comparison['Pairs Strategy'] = strategy['Cum_Return']\n",
    "comparison['BTC Buy & Hold'] = btc_buy_hold.loc[strategy.index] / btc_buy_hold.loc[strategy.index[0]]\n",
    "comparison['ETH Buy & Hold'] = eth_buy_hold.loc[strategy.index] / eth_buy_hold.loc[strategy.index[0]]"
   ]
  },
  {
   "cell_type": "code",
   "execution_count": null,
   "metadata": {},
   "outputs": [],
   "source": [
    "# Calculate buy-and-hold statistics\n",
    "btc_return = comparison['BTC Buy & Hold'].iloc[-1] - 1\n",
    "eth_return = comparison['ETH Buy & Hold'].iloc[-1] - 1\n",
    "btc_sharpe = np.log(comparison['BTC Buy & Hold'] / comparison['BTC Buy & Hold'].shift(1)).mean() / \\\n",
    "            np.log(comparison['BTC Buy & Hold'] / comparison['BTC Buy & Hold'].shift(1)).std() * np.sqrt(252)\n",
    "eth_sharpe = np.log(comparison['ETH Buy & Hold'] / comparison['ETH Buy & Hold'].shift(1)).mean() / \\\n",
    "            np.log(comparison['ETH Buy & Hold'] / comparison['ETH Buy & Hold'].shift(1)).std() * np.sqrt(252)\n",
    "\n",
    "print(\"\\nBuy & Hold Performance:\")\n",
    "print(f\"BTC Return: {btc_return:.4f} ({btc_return*100:.2f}%)\")\n",
    "print(f\"ETH Return: {eth_return:.4f} ({eth_return*100:.2f}%)\")\n",
    "print(f\"BTC Sharpe: {btc_sharpe:.4f}\")\n",
    "print(f\"ETH Sharpe: {eth_sharpe:.4f}\")"
   ]
  },
  {
   "cell_type": "code",
   "execution_count": null,
   "metadata": {},
   "outputs": [],
   "source": [
    "# Plot strategy vs buy and hold\n",
    "plt.figure(figsize=(12, 6))\n",
    "plt.plot(comparison.index, comparison['Pairs Strategy'], label='Pairs Strategy')\n",
    "plt.plot(comparison.index, comparison['BTC Buy & Hold'], label='BTC Buy & Hold')\n",
    "plt.plot(comparison.index, comparison['ETH Buy & Hold'], label='ETH Buy & Hold')\n",
    "plt.title('Strategy vs Buy & Hold Performance')\n",
    "plt.xlabel('Date')\n",
    "plt.ylabel('Cumulative Return')\n",
    "plt.legend()\n",
    "plt.grid(True, alpha=0.3)\n",
    "plt.savefig('strategy_vs_buyhold.png', dpi=300, bbox_inches='tight')\n",
    "plt.show()"
   ]
  },
  {
   "cell_type": "code",
   "execution_count": null,
   "metadata": {},
   "outputs": [],
   "source": [
    "# Calculate drawdown\n",
    "cum_returns = strategy['Cum_Return']\n",
    "running_max = cum_returns.cummax()\n",
    "drawdown = (cum_returns / running_max) - 1\n",
    "max_drawdown = drawdown.min()\n",
    "print(f\"Maximum Drawdown: {max_drawdown:.4f} ({max_drawdown*100:.2f}%)\")"
   ]
  },
  {
   "cell_type": "code",
   "execution_count": null,
   "metadata": {},
   "outputs": [],
   "source": [
    "# Plot drawdowns\n",
    "plt.figure(figsize=(12, 6))\n",
    "plt.plot(strategy.index, drawdown * 100)\n",
    "plt.fill_between(strategy.index, drawdown * 100, 0, color='red', alpha=0.3)\n",
    "plt.title('Strategy Drawdowns (%)', fontsize=14)\n",
    "plt.xlabel('Date')\n",
    "plt.ylabel('Drawdown (%)')\n",
    "plt.grid(True)\n",
    "plt.savefig('drawdowns.png', dpi=300, bbox_inches='tight')\n",
    "plt.show()"
   ]
  },
  {
   "cell_type": "markdown",
   "metadata": {},
   "source": [
    "## **12. Market Regime Analysis**\n",
    "\n",
    "Let's analyze how the correlation between BTC and ETH changes over time, which can impact the performance of our pairs trading strategy."
   ]
  },
  {
   "cell_type": "code",
   "execution_count": null,
   "metadata": {},
   "outputs": [],
   "source": [
    "# Calculate 90-day rolling correlation between BTC and ETH\n",
    "rolling_corr = strategy[ticker_1].rolling(90).corr(strategy[ticker_2])\n",
    "\n",
    "# Plot rolling correlation\n",
    "plt.figure(figsize=(12, 6))\n",
    "plt.plot(rolling_corr.index, rolling_corr)\n",
    "plt.axhline(rolling_corr.mean(), color='red', linestyle='--', label=f'Mean: {rolling_corr.mean():.4f}')\n",
    "plt.title('90-Day Rolling Correlation between BTC and ETH', fontsize=14)\n",
    "plt.xlabel('Date')\n",
    "plt.ylabel('Correlation')\n",
    "plt.legend()\n",
    "plt.grid(True)\n",
    "plt.savefig('rolling_correlation.png', dpi=300, bbox_inches='tight')\n",
    "plt.show()"
   ]
  },
  {
   "cell_type": "code",
   "execution_count": null,
   "metadata": {},
   "outputs": [],
   "source": [
    "# Define strategy_return\n",
    "strategy_return = total_return"
   ]
  },
  {
   "cell_type": "code",
   "execution_count": null,
   "metadata": {},
   "outputs": [],
   "source": [
    "# Create overall comparison statistics\n",
    "comparison_stats = pd.DataFrame({\n",
    "    'Metric': ['Total Return', 'Annualized Return', 'Sharpe Ratio', 'Maximum Drawdown'],\n",
    "    'Pairs Strategy': [\n",
    "        f\"{strategy_return:.2%}\", \n",
    "        f\"{annual_return:.2%}\", \n",
    "        f\"{sharpe_ratio:.4f}\", \n",
    "        f\"{max_drawdown:.2%}\"\n",
    "    ],\n",
    "    'BTC Buy & Hold': [\n",
    "        f\"{btc_return:.2%}\", \n",
    "        f\"{(1 + btc_return) ** (252 / len(strategy)) - 1:.2%}\", \n",
    "        f\"{btc_sharpe:.4f}\", \n",
    "        f\"{(comparison['BTC Buy & Hold'] / comparison['BTC Buy & Hold'].cummax() - 1).min():.2%}\"\n",
    "    ],\n",
    "    'ETH Buy & Hold': [\n",
    "        f\"{eth_return:.2%}\", \n",
    "        f\"{(1 + eth_return) ** (252 / len(strategy)) - 1:.2%}\", \n",
    "        f\"{eth_sharpe:.4f}\", \n",
    "        f\"{(comparison['ETH Buy & Hold'] / comparison['ETH Buy & Hold'].cummax() - 1).min():.2%}\"\n",
    "    ]\n",
    "})\n",
    "\n",
    "print(\"\\nStrategy Comparison Summary:\")\n",
    "print(comparison_stats)"
   ]
  },
  {
   "cell_type": "markdown",
   "metadata": {},
   "source": [
    "## **13. Summary and Findings**\n",
    "\n",
    "Let's summarize the key findings from our BTC-ETH pairs trading strategy analysis."
   ]
  },
  {
   "cell_type": "code",
   "execution_count": null,
   "metadata": {},
   "outputs": [],
   "source": [
    "print(\"Pairs trading strategy between BTC and ETH summary:\")\n",
    "print(f\"1. The pair {'is' if pvalue < 0.05 else 'is not'} cointegrated during the training period\")\n",
    "print(f\"2. The spread {'is' if adf_result[1] < 0.05 else 'is not'} stationary during the training period\")\n",
    "print(f\"3. The strategy generated a {annual_return*100:.2f}% annualized return\")\n",
    "print(f\"4. The Sharpe ratio is {sharpe_ratio:.4f}\")\n",
    "print(f\"5. The strategy experienced a maximum drawdown of {max_drawdown*100:.2f}%\")\n",
    "print(f\"6. The win rate is {win_rate*100:.2f}% ({winning_trades}/{total_trades} trades)\")\n",
    "print(f\"7. The average correlation between BTC and ETH is {rolling_corr.mean():.4f}\")"
   ]
  },
  {
   "cell_type": "code",
   "execution_count": null,
   "metadata": {},
   "outputs": [],
   "source": [
    "# Save strategy data for further analysis\n",
    "strategy.to_csv('btc_eth_pairs_trading_results.csv')\n",
    "print(\"Strategy data saved to 'btc_eth_pairs_trading_results.csv'\")"
   ]
  }
 ],
 "metadata": {
  "kernelspec": {
   "display_name": "rlpairs",
   "language": "python",
   "name": "python3"
  },
  "language_info": {
   "codemirror_mode": {
    "name": "ipython",
    "version": 3
   },
   "file_extension": ".py",
   "mimetype": "text/x-python",
   "name": "python",
   "nbconvert_exporter": "python",
   "pygments_lexer": "ipython3",
   "version": "3.9.21"
  }
 },
 "nbformat": 4,
 "nbformat_minor": 2
}
