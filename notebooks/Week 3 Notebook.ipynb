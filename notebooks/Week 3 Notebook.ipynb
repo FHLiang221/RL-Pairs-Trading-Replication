{
 "cells": [
  {
   "cell_type": "markdown",
   "metadata": {
    "id": "ifuBpMElSL7Z"
   },
   "source": [
    "# **Week 3 - Statistical Arbitrage**"
   ]
  },
  {
   "cell_type": "code",
   "execution_count": null,
   "metadata": {
    "executionInfo": {
     "elapsed": 1738,
     "status": "ok",
     "timestamp": 1740114850313,
     "user": {
      "displayName": "Minseo Kim",
      "userId": "15493020693052745367"
     },
     "user_tz": 480
    },
    "id": "0rHv1OpfSH0K"
   },
   "outputs": [],
   "source": [
    "# Import necessary libraries\n",
    "import warnings\n",
    "import numpy as np\n",
    "import pandas as pd\n",
    "import matplotlib.pyplot as plt\n",
    "import seaborn as sns\n",
    "import yfinance as yf\n",
    "import statsmodels.api as sm\n",
    "from statsmodels.tsa.stattools import coint\n",
    "from itertools import combinations"
   ]
  },
  {
   "cell_type": "code",
   "execution_count": null,
   "metadata": {
    "executionInfo": {
     "elapsed": 8,
     "status": "ok",
     "timestamp": 1740114851003,
     "user": {
      "displayName": "Minseo Kim",
      "userId": "15493020693052745367"
     },
     "user_tz": 480
    },
    "id": "VMaeKgZwR73-"
   },
   "outputs": [],
   "source": [
    "warnings.filterwarnings('ignore')"
   ]
  },
  {
   "cell_type": "code",
   "execution_count": null,
   "metadata": {
    "executionInfo": {
     "elapsed": 2,
     "status": "ok",
     "timestamp": 1740114851587,
     "user": {
      "displayName": "Minseo Kim",
      "userId": "15493020693052745367"
     },
     "user_tz": 480
    },
    "id": "O3faQ2gQSD6n"
   },
   "outputs": [],
   "source": [
    "plt.style.use('petroff10')\n",
    "plt.rcParams['figure.facecolor'] = 'white'"
   ]
  },
  {
   "cell_type": "markdown",
   "metadata": {
    "id": "it5cXi_DSHVl"
   },
   "source": [
    "## **What is Pairs Trading?**\n",
    "\n",
    "**Pairs trading** is a specific subset of **statistical arbitrage**, a broader category of quantitative trading strategies that exploit statistical mispricings in financial markets. While the two terms are sometimes used interchangeably, pairs trading focuses on the relative mispricing between two (or more) co-moving assets.\n",
    "\n",
    "In its simplest form, pairs trading involves identifying two assets that historically move together and establishing long and short positions to profit from any temporary divergence in their prices. Specifically, you go long the underperforming asset and short the outperforming one, expecting that their price relationship will revert to its historical mean over time.\n",
    "\n",
    "Developing a pairs trading strategy typically involves three key steps:\n",
    "\n",
    "1. **Pairs Selection**: Identify suitable assets with a stable, historically observed relationship.\n",
    "2. **Spread Modeling**: Model and test the spread (or linear combination) for stationarity or mean reversion.\n",
    "3. **Trading Rules:** Define entry and exit criteria, position sizing, and risk management parameters.\n",
    "\n",
    "For a deeper discussion on pairs trading, see this [article](https://hudsonthames.org/definitive-guide-to-pairs-trading/#taxonomy) by Hudson & Thames.\n"
   ]
  },
  {
   "cell_type": "markdown",
   "metadata": {
    "id": "n_u9Rk3P4OSx"
   },
   "source": [
    "## **1. Pairs Selection**\n",
    "\n",
    "In the pairs selection step, we aim to identify co-moving securities by utilizing methods like **distance metrics** and **cointegration tests**."
   ]
  },
  {
   "cell_type": "markdown",
   "metadata": {
    "id": "W_RWvSriC5OG"
   },
   "source": [
    "#### **Price Normalization**\n",
    "\n",
    "Before modeling the spread between all possible combinations of stock pairs during the **train period** (which is chosen to be 12 months), we first normalize the price series to eliminate differences in absolute price levels.\n",
    "\n",
    "The normalization ensures that stocks are compared based on their relative movements rather than raw price differences. The typical normalization formula for a stock $S_i$ at time $t$ is:\n",
    "\n",
    "$$\\tilde{P}_{i, t} = \\frac{P_{i, t}}{P_{i, 1}}$$\n",
    "\n",
    "By normalizing, all price series are scaled to $1 at the beginning of the period, allowing for a fair comparison of price movements."
   ]
  },
  {
   "cell_type": "code",
   "execution_count": null,
   "metadata": {
    "colab": {
     "base_uri": "https://localhost:8080/",
     "height": 666
    },
    "executionInfo": {
     "elapsed": 1044,
     "status": "ok",
     "timestamp": 1740114875197,
     "user": {
      "displayName": "Minseo Kim",
      "userId": "15493020693052745367"
     },
     "user_tz": 480
    },
    "id": "_PdvZtoF4WJ1",
    "outputId": "99d03e67-5d48-43ea-9748-708e63ec1f06"
   },
   "outputs": [],
   "source": [
    "# Download data for train period\n",
    "url = 'https://en.wikipedia.org/wiki/Dow_Jones_Industrial_Average'\n",
    "tickers = pd.read_html(url)[2]['Symbol'].tolist()\n",
    "data = yf.download(tickers, start='2023-01-01', end='2023-12-31')['Close']\n",
    "data"
   ]
  },
  {
   "cell_type": "code",
   "execution_count": null,
   "metadata": {
    "executionInfo": {
     "elapsed": 9,
     "status": "ok",
     "timestamp": 1740114877576,
     "user": {
      "displayName": "Minseo Kim",
      "userId": "15493020693052745367"
     },
     "user_tz": 480
    },
    "id": "FxnnuL9YGbnL"
   },
   "outputs": [],
   "source": [
    "# Normalize price series\n",
    "data_normalized = data / data.iloc[0]"
   ]
  },
  {
   "cell_type": "code",
   "execution_count": null,
   "metadata": {
    "colab": {
     "base_uri": "https://localhost:8080/",
     "height": 507
    },
    "executionInfo": {
     "elapsed": 484,
     "status": "ok",
     "timestamp": 1740114885257,
     "user": {
      "displayName": "Minseo Kim",
      "userId": "15493020693052745367"
     },
     "user_tz": 480
    },
    "id": "2PjtzPfvK9FJ",
    "outputId": "151ff37e-ee94-461e-e4be-9c3047c7b353"
   },
   "outputs": [],
   "source": [
    "# Compare close vs. normalized prices\n",
    "ticker = tickers[0]\n",
    "fig, ax = plt.subplots(nrows=1, ncols=2, figsize=(15, 5))\n",
    "\n",
    "ax[0].plot(data.index, data[ticker], label='Close')\n",
    "ax[0].set_title(f'{ticker} Price Series')\n",
    "ax[0].set_xlabel('Date')\n",
    "ax[0].set_ylabel('Price')\n",
    "ax[0].legend()\n",
    "\n",
    "ax[1].plot(data_normalized.index, data_normalized[ticker], label='Normalized')\n",
    "ax[1].set_title(f'Normalized {ticker} Price Series')\n",
    "ax[1].set_xlabel('Date')\n",
    "ax[1].set_ylabel('Normalized Price')\n",
    "ax[1].legend()\n",
    "\n",
    "plt.tight_layout()\n",
    "plt.show()"
   ]
  },
  {
   "cell_type": "code",
   "execution_count": null,
   "metadata": {
    "colab": {
     "base_uri": "https://localhost:8080/",
     "height": 564
    },
    "executionInfo": {
     "elapsed": 360,
     "status": "ok",
     "timestamp": 1740114887124,
     "user": {
      "displayName": "Minseo Kim",
      "userId": "15493020693052745367"
     },
     "user_tz": 480
    },
    "id": "La9PsRhmJ3lY",
    "outputId": "f046afa1-183b-4d63-a4c4-a69393484baa"
   },
   "outputs": [],
   "source": [
    "# Visualize normalized price series\n",
    "plt.figure(figsize=(12, 6))\n",
    "\n",
    "cmap = plt.cm.get_cmap('tab10', 10)\n",
    "for i, ticker in enumerate(tickers[:10]):\n",
    "  color = cmap(i / 10)\n",
    "  plt.plot(data_normalized.index, data_normalized[ticker], label=ticker, color=color)\n",
    "\n",
    "plt.title('Normalized Price Series')\n",
    "plt.xlabel('Date')\n",
    "plt.ylabel('Normalized Price')\n",
    "plt.legend()\n",
    "plt.show()"
   ]
  },
  {
   "cell_type": "markdown",
   "metadata": {
    "id": "EaZTXc85Az_O"
   },
   "source": [
    "#### **Distance Approach**\n",
    "\n",
    "After the prices have been normalized, we use the **distance approach** to select pairs of stocks based on how closely their price movements track each other. This approach ranks potential pairs by computing the **sum of squared differences (SSD)** between their normalized price series over the formation period.\n",
    "\n",
    "For a pair of stocks $(S_i, S_j)$, SSD is computed as:\n",
    "\n",
    "$$SSD(i, j) = \\sum_{t=1}^{T} (\\tilde{P}_{i,t} - \\tilde{P}_{j,t})^2$$\n",
    "\n",
    "A lower SSD indicates that the two stocks have historically moved together more closely, making them better candidates for pairs trading.\n",
    "\n",
    "Once SSD is computed for all possible pairs, stocks are ranked in ascending order based on SSD values. The top-ranked pairs are chosen for further analysis, such as the **cointegration test** to ensure mean-reverting behavior."
   ]
  },
  {
   "cell_type": "code",
   "execution_count": null,
   "metadata": {
    "colab": {
     "base_uri": "https://localhost:8080/"
    },
    "executionInfo": {
     "elapsed": 70,
     "status": "ok",
     "timestamp": 1740114889209,
     "user": {
      "displayName": "Minseo Kim",
      "userId": "15493020693052745367"
     },
     "user_tz": 480
    },
    "id": "8z3W4JksIPTF",
    "outputId": "e4f5963b-1ab6-402c-ccae-013c4751c731"
   },
   "outputs": [],
   "source": [
    "# Compute pairwise sum of squared distances\n",
    "pair_distances = {}\n",
    "for (ticker_1, ticker_2) in combinations(tickers, 2):\n",
    "    distance = ((data_normalized[ticker_1] - data_normalized[ticker_2]) ** 2).sum()\n",
    "    pair_distances[(ticker_1, ticker_2)] = distance\n",
    "    print(f'Distance between {ticker_1} and {ticker_2}: {distance:.2f}')"
   ]
  },
  {
   "cell_type": "code",
   "execution_count": null,
   "metadata": {
    "colab": {
     "base_uri": "https://localhost:8080/"
    },
    "executionInfo": {
     "elapsed": 16,
     "status": "ok",
     "timestamp": 1740114890717,
     "user": {
      "displayName": "Minseo Kim",
      "userId": "15493020693052745367"
     },
     "user_tz": 480
    },
    "id": "yyczqcyCOX9K",
    "outputId": "0ba1505e-2e88-46bd-8ad7-9d96999bfe6b"
   },
   "outputs": [],
   "source": [
    "# Get top 20 pairs with smallest SSD\n",
    "pair_distances_sorted = sorted(pair_distances.items(), key=lambda x: x[1])\n",
    "for i, (pair, distance) in enumerate(pair_distances_sorted[:20]):\n",
    "  print(f'{i + 1}. {pair[0]} and {pair[1]}: {distance:.2f}')"
   ]
  },
  {
   "cell_type": "code",
   "execution_count": null,
   "metadata": {
    "colab": {
     "base_uri": "https://localhost:8080/",
     "height": 564
    },
    "executionInfo": {
     "elapsed": 378,
     "status": "ok",
     "timestamp": 1740114891883,
     "user": {
      "displayName": "Minseo Kim",
      "userId": "15493020693052745367"
     },
     "user_tz": 480
    },
    "id": "9gZu2aBaPheB",
    "outputId": "34aade3c-bdec-4b5a-b9b7-67ebe30d41b5"
   },
   "outputs": [],
   "source": [
    "# Visualize price series for closest pair\n",
    "ticker_1, ticker_2 = pair_distances_sorted[0][0]\n",
    "min_distance = pair_distances_sorted[0][1]\n",
    "\n",
    "plt.figure(figsize=(10, 6))\n",
    "plt.plot(data_normalized.index, data_normalized[ticker_1], label=ticker_1)\n",
    "plt.plot(data_normalized.index, data_normalized[ticker_2], label=ticker_2)\n",
    "plt.fill_between(\n",
    "    data_normalized.index,\n",
    "    data_normalized[ticker_1],\n",
    "    data_normalized[ticker_2],\n",
    "    color='gray',\n",
    "    alpha=0.4\n",
    ")\n",
    "plt.title(f'Closest Pair: {ticker_1} and {ticker_2} | SSD = {min_distance:.2f}')\n",
    "plt.xlabel('Date')\n",
    "plt.ylabel('Normalized Price')\n",
    "plt.legend()\n",
    "plt.show()"
   ]
  },
  {
   "cell_type": "markdown",
   "metadata": {
    "id": "AhxpLQZxTqvt"
   },
   "source": [
    "#### **Cointegration Method**\n",
    "\n",
    "After sorting all possible combinations of pairs based on their SSD in their normalized price series, we test each pair with the least SSD for **cointegration**, which is a statistical concept used in time-series analysis that identifies a **long-term equilibrium relationship** between two or more non-stationary time series.\n",
    "\n",
    "In the context of pairs trading, cointegration means that while two stock prices may individually follow a random walk, a specific **linear combination** of them remains **stationary** and fluctuates around a stable mean. This suggests that any deviation from equilibrium is temporary and the spread between them will eventually revert.  \n",
    "\n",
    "Mathematically, if $X_t$ and $Y_t$ are non-stationary price series, they are cointegrated if there exists a non-zero constant $\\beta$ such that:\n",
    "\n",
    "$$Z_t = Y_t - \\beta X_t$$\n",
    "\n",
    "is stationary (it has a constant mean and variance over time)."
   ]
  },
  {
   "cell_type": "code",
   "execution_count": null,
   "metadata": {
    "colab": {
     "base_uri": "https://localhost:8080/"
    },
    "executionInfo": {
     "elapsed": 3089,
     "status": "ok",
     "timestamp": 1740114900515,
     "user": {
      "displayName": "Minseo Kim",
      "userId": "15493020693052745367"
     },
     "user_tz": 480
    },
    "id": "QJb5MSGdTpvG",
    "outputId": "98086591-4217-4a1c-a4c7-cfc795eb7b30"
   },
   "outputs": [],
   "source": [
    "# Perform cointegration test on stock pairs\n",
    "coint_pairs = []\n",
    "\n",
    "for (ticker_1, ticker_2) in dict(pair_distances_sorted).keys():\n",
    "  # Engle-Granger two-step method\n",
    "  results = coint(data[ticker_1], data[ticker_2])\n",
    "  pvalue = results[1]\n",
    "  if pvalue < 0.05:\n",
    "    coint_pairs.append((ticker_1, ticker_2))\n",
    "    print(f'P-value between {ticker_1} and {ticker_2}: {pvalue:.4f}')\n",
    "\n",
    "  # Continue until 10 cointegrated pairs are selected\n",
    "  if len(coint_pairs) == 10:\n",
    "    break"
   ]
  },
  {
   "cell_type": "code",
   "execution_count": null,
   "metadata": {
    "colab": {
     "base_uri": "https://localhost:8080/"
    },
    "executionInfo": {
     "elapsed": 19,
     "status": "ok",
     "timestamp": 1740114906757,
     "user": {
      "displayName": "Minseo Kim",
      "userId": "15493020693052745367"
     },
     "user_tz": 480
    },
    "id": "ioeHyLgB-88Q",
    "outputId": "c9577511-e940-4ec7-a99d-2096c8ec8760"
   },
   "outputs": [],
   "source": [
    "# Get best cointegrated pair with smallest SSD\n",
    "best_pair = coint_pairs[0]\n",
    "print(f'Best pair: {best_pair[0]} and {best_pair[1]}')"
   ]
  },
  {
   "cell_type": "markdown",
   "metadata": {
    "id": "VDevBBMj4WTU"
   },
   "source": [
    "## **2. Spread Modeling**\n",
    "\n",
    "Once we identify the pair whose prices $(P_{1,t}, P_{2,t})$ are cointegrated and have the smallest SSD, we estimate the hedge ratio $\\beta$ using **Ordinary Least Squares (OLS) regression**:\n",
    "\n",
    "$$\\beta = \\frac{Cov(P_{1,t}, P_{2,t})}{Var(P_{2,t})}$$\n",
    "\n",
    "This ratio determines the optimal proporation in which the stocks should be traded to construct a stationary spread:\n",
    "\n",
    "$$Spread_t = P_{2,t} - \\beta P_{1,t}$$\n",
    "\n",
    "The spread will then be monitored and traded using one or more pre-defined rules."
   ]
  },
  {
   "cell_type": "code",
   "execution_count": null,
   "metadata": {
    "executionInfo": {
     "elapsed": 2,
     "status": "ok",
     "timestamp": 1740114910200,
     "user": {
      "displayName": "Minseo Kim",
      "userId": "15493020693052745367"
     },
     "user_tz": 480
    },
    "id": "BzTGhhwlLjRE"
   },
   "outputs": [],
   "source": [
    "# Function to run linear regression\n",
    "def lin_reg(X, Y):\n",
    "  X = sm.add_constant(X)\n",
    "  model = sm.OLS(Y, X).fit()\n",
    "  params = model.params\n",
    "  return params"
   ]
  },
  {
   "cell_type": "code",
   "execution_count": null,
   "metadata": {
    "colab": {
     "base_uri": "https://localhost:8080/",
     "height": 564
    },
    "executionInfo": {
     "elapsed": 216,
     "status": "ok",
     "timestamp": 1740114910873,
     "user": {
      "displayName": "Minseo Kim",
      "userId": "15493020693052745367"
     },
     "user_tz": 480
    },
    "id": "lcOMFaoQ4Zsn",
    "outputId": "b96b0cc4-7fa4-473f-c722-8e3c7cc17b2c"
   },
   "outputs": [],
   "source": [
    "# Perform linear regression on best pair\n",
    "ticker_1, ticker_2 = best_pair[::-1]\n",
    "intercept, slope = lin_reg(data[ticker_1], data[ticker_2])\n",
    "x_line = np.linspace(min(data[ticker_1]), max(data[ticker_1]), 100)\n",
    "y_line = slope * x_line + intercept\n",
    "\n",
    "plt.figure(figsize=(10, 6))\n",
    "plt.scatter(data[ticker_1], data[ticker_2], label='Train Data', alpha=0.8)\n",
    "plt.plot(x_line, y_line, label=f'y = {slope:.2f}x + {intercept:.2f}', color='red', linewidth=2)\n",
    "plt.title(f'Linear Regression of {ticker_1} vs. {ticker_2}')\n",
    "plt.xlabel(f'{ticker_1} Price')\n",
    "plt.ylabel(f'{ticker_2} Price')\n",
    "plt.legend()\n",
    "plt.show()"
   ]
  },
  {
   "cell_type": "code",
   "execution_count": null,
   "metadata": {
    "executionInfo": {
     "elapsed": 15,
     "status": "ok",
     "timestamp": 1740114912054,
     "user": {
      "displayName": "Minseo Kim",
      "userId": "15493020693052745367"
     },
     "user_tz": 480
    },
    "id": "63faOheREdE1"
   },
   "outputs": [],
   "source": [
    "# Compute train spread using hedge ratio\n",
    "hedge_ratio = slope\n",
    "train_spread = data[ticker_2] - hedge_ratio * data[ticker_1]\n",
    "train_spread_mean = train_spread.mean()"
   ]
  },
  {
   "cell_type": "code",
   "execution_count": null,
   "metadata": {
    "colab": {
     "base_uri": "https://localhost:8080/",
     "height": 564
    },
    "executionInfo": {
     "elapsed": 219,
     "status": "ok",
     "timestamp": 1740114912905,
     "user": {
      "displayName": "Minseo Kim",
      "userId": "15493020693052745367"
     },
     "user_tz": 480
    },
    "id": "o42WMCjKqF76",
    "outputId": "b9030271-8b24-41fa-a1d3-01ec926533b5"
   },
   "outputs": [],
   "source": [
    "# Visualize train spread and its mean\n",
    "plt.figure(figsize=(10, 6))\n",
    "plt.plot(train_spread.index, train_spread, label='Train Spread')\n",
    "plt.axhline(train_spread_mean, label='Mean', color='black')\n",
    "plt.title('Train Spread and Mean Over Time')\n",
    "plt.xlabel('Date')\n",
    "plt.ylabel('Spread')\n",
    "plt.legend()\n",
    "plt.show()"
   ]
  },
  {
   "cell_type": "markdown",
   "metadata": {
    "id": "nTd-Ml0VzavJ"
   },
   "source": [
    "So far, we have used data from the **train period** to both test for a stationary spread and compute the hedge ratio. However, using the spread computed from the train period to backtest our strategy introduces **look-ahead bias** because it relies on future stock prices to model the spread, which is an information that would not be available at the time of trading.\n",
    "\n",
    "To mitigate this, we apply a **rolling hedge ratio** during a separate **test period** to dynamically model the spread. However, this approach relies on the assumption that *the cointegration relationship remains stable throughout the test period*, which may not always hold. In real-world trading, cointegration relationships can break down due to shifts in market conditions, fundamentals, or liquidity.\n",
    "\n",
    "Therefore, when actually implementing a pairs trading strategy, it is advised to trade multiple pairs simultaneously rather than relying on a single pair. This **diversification** helps mitigate the impact of any individual pair failing to maintain its equilibrium relationship."
   ]
  },
  {
   "cell_type": "code",
   "execution_count": null,
   "metadata": {
    "colab": {
     "base_uri": "https://localhost:8080/",
     "height": 473
    },
    "executionInfo": {
     "elapsed": 193,
     "status": "ok",
     "timestamp": 1740114914364,
     "user": {
      "displayName": "Minseo Kim",
      "userId": "15493020693052745367"
     },
     "user_tz": 480
    },
    "id": "0SphRgAbpfNx",
    "outputId": "18cabd13-f18d-49ec-8f95-f142e836ffb9"
   },
   "outputs": [],
   "source": [
    "# Download data for test period\n",
    "tickers = [ticker_1, ticker_2]\n",
    "test_data = yf.download(tickers, start='2024-01-01', end='2024-12-31')['Close']\n",
    "test_data"
   ]
  },
  {
   "cell_type": "code",
   "execution_count": null,
   "metadata": {
    "colab": {
     "base_uri": "https://localhost:8080/",
     "height": 564
    },
    "executionInfo": {
     "elapsed": 422,
     "status": "ok",
     "timestamp": 1740114915432,
     "user": {
      "displayName": "Minseo Kim",
      "userId": "15493020693052745367"
     },
     "user_tz": 480
    },
    "id": "R52sUjEFXiy8",
    "outputId": "733f8e2d-9037-47de-a4ef-d2284d4cadae"
   },
   "outputs": [],
   "source": [
    "# Visualize price relationship over time\n",
    "plt.figure(figsize=(12, 6))\n",
    "\n",
    "colors = np.linspace(0, 1, len(test_data))\n",
    "sc = plt.scatter(\n",
    "    test_data[ticker_1],\n",
    "    test_data[ticker_2],\n",
    "    c=colors,\n",
    "    cmap='jet',\n",
    "    edgecolor='black',\n",
    "    alpha=0.8\n",
    ")\n",
    "\n",
    "cb = plt.colorbar(sc)\n",
    "num_ticks = 6\n",
    "tick_positions = np.linspace(0, len(test_data) - 1, num_ticks).astype(int)\n",
    "cb.set_ticks(np.linspace(0, 1, num_ticks))\n",
    "cb.set_ticklabels(test_data.index[tick_positions].strftime('%Y-%m-%d'))\n",
    "\n",
    "plt.title(f'Relationship Between {ticker_1} and {ticker_2} Over Time')\n",
    "plt.xlabel(f'{ticker_1} Price')\n",
    "plt.ylabel(f'{ticker_2} Price')\n",
    "plt.show()"
   ]
  },
  {
   "cell_type": "code",
   "execution_count": null,
   "metadata": {
    "executionInfo": {
     "elapsed": 604,
     "status": "ok",
     "timestamp": 1740114916897,
     "user": {
      "displayName": "Minseo Kim",
      "userId": "15493020693052745367"
     },
     "user_tz": 480
    },
    "id": "Vb9OXftRC9I0"
   },
   "outputs": [],
   "source": [
    "# Compute test spread using rolling hedge ratios\n",
    "window = 30\n",
    "rolling_hedge_ratios = pd.Series(index=test_data.index, dtype=float)\n",
    "test_spread_mean = pd.Series(index=test_data.index, dtype=float)\n",
    "test_spread_std = pd.Series(index=test_data.index, dtype=float)\n",
    "\n",
    "for i in range(window, len(test_data) + 1):\n",
    "  window_data_1 = test_data[ticker_1][i - window:i]\n",
    "  window_data_2 = test_data[ticker_2][i - window:i]\n",
    "\n",
    "  # Compute rolling hedge ratio\n",
    "  hedge_ratio = lin_reg(window_data_1, window_data_2)[1]\n",
    "  rolling_hedge_ratios.iloc[i - 1] = hedge_ratio\n",
    "\n",
    "  # Compute windowed mean and standard deviation\n",
    "  sample_spread = window_data_2 - hedge_ratio * window_data_1\n",
    "  test_spread_mean.iloc[i - 1] = sample_spread.mean()\n",
    "  test_spread_std.iloc[i - 1] = sample_spread.std()\n",
    "\n",
    "test_spread = test_data[ticker_2] - rolling_hedge_ratios * test_data[ticker_1]"
   ]
  },
  {
   "cell_type": "code",
   "execution_count": null,
   "metadata": {
    "colab": {
     "base_uri": "https://localhost:8080/",
     "height": 606
    },
    "executionInfo": {
     "elapsed": 468,
     "status": "ok",
     "timestamp": 1740114917897,
     "user": {
      "displayName": "Minseo Kim",
      "userId": "15493020693052745367"
     },
     "user_tz": 480
    },
    "id": "0Ysv1wuitpVn",
    "outputId": "f66ab30a-e37b-4207-ab9c-dfee750572f5"
   },
   "outputs": [],
   "source": [
    "fig, ax = plt.subplots(nrows=2, ncols=1, figsize=(10, 6), sharex=True, gridspec_kw={'height_ratios': [2, 1]})\n",
    "\n",
    "# Plot test spread and windowed mean\n",
    "ax[0].plot(test_spread.index, test_spread, label='Test Spread', color='blue')\n",
    "ax[0].plot(test_spread_mean.index, test_spread_mean, label='Windowed Mean', color='orange')\n",
    "ax[0].set_title('Test Spread and Windowed Mean Over Time')\n",
    "ax[0].set_ylabel('Spread')\n",
    "ax[0].legend()\n",
    "\n",
    "# Plot rolling hedge ratio\n",
    "ax[1].plot(rolling_hedge_ratios.index, rolling_hedge_ratios, label='Rolling Hedge Ratio', color='green')\n",
    "ax[1].set_title('Rolling Hedge Ratio Over Time')\n",
    "ax[1].set_xlabel('Date')\n",
    "ax[1].set_ylabel('Hedge Ratio')\n",
    "ax[1].legend()\n",
    "\n",
    "plt.tight_layout()\n",
    "plt.show()"
   ]
  },
  {
   "cell_type": "markdown",
   "metadata": {
    "id": "E-_VZKGA4Z1A"
   },
   "source": [
    "## **3. Trading Rules**\n",
    "\n",
    "To define trading signals, we first compute the **z-score** of the spread:\n",
    "\n",
    "$$Z_t = \\frac{S_t - \\mu_t}{\\sigma_t}$$\n",
    "\n",
    "where\n",
    "* $S_t$ is the spread at time $t$.\n",
    "* $\\mu_t$ is the rolling mean of the spread.\n",
    "* $\\sigma_t$ is the rolling standard deviation of the spread.\n",
    "\n",
    "Finally, the actual strategy follows a **mean-reverting** approach, entering trades when the spread deviates signficantly from its mean and exiting when it reverts:\n",
    "\n",
    "1. Enter a long position (buy the spread) using the hedge ratio when $Z_t < -1$.\n",
    "2. Enter a short position (sell the spread) using the hedge ratio when $Z_t > 1$.\n",
    "3. Exit long position when $Z_t > 0$ (spread crosses back above its mean).\n",
    "4. Exit short position when $Z_t < 0$ (spread crosses back below its mean)\n",
    "\n",
    "For example, if the **hedge ratio** at the time of trading is $\\beta$, **going long** on the spread involves buying 1 shares of the underperforming stock and selling $\\beta$ share of the outperforming stock. Conversely, **shorting** the spread means selling 1 share of the underperforming stock and buying $\\beta$ shares of the outperforming stock.   "
   ]
  },
  {
   "cell_type": "code",
   "execution_count": null,
   "metadata": {
    "colab": {
     "base_uri": "https://localhost:8080/",
     "height": 564
    },
    "executionInfo": {
     "elapsed": 282,
     "status": "ok",
     "timestamp": 1740114919894,
     "user": {
      "displayName": "Minseo Kim",
      "userId": "15493020693052745367"
     },
     "user_tz": 480
    },
    "id": "VyT1x5fRRAgZ",
    "outputId": "983da272-6d72-4611-e8da-bca76f9cc848"
   },
   "outputs": [],
   "source": [
    "# Normalize test spread and visualize it\n",
    "test_spread_normalized = (test_spread - test_spread_mean) / test_spread_std\n",
    "\n",
    "plt.figure(figsize=(10, 6))\n",
    "plt.plot(test_spread_normalized.index, test_spread_normalized, label='Z-Score')\n",
    "plt.axhline(0, label='Mean', color='black')\n",
    "plt.axhline(1, label='+1', color='red', linestyle='--')\n",
    "plt.axhline(-1, label='-1', color='green', linestyle='--')\n",
    "plt.title('Normalized Test Spread')\n",
    "plt.xlabel('Date')\n",
    "plt.ylabel('Z-Score')\n",
    "plt.legend()\n",
    "plt.show()"
   ]
  },
  {
   "cell_type": "code",
   "execution_count": null,
   "metadata": {
    "executionInfo": {
     "elapsed": 126,
     "status": "ok",
     "timestamp": 1740114921229,
     "user": {
      "displayName": "Minseo Kim",
      "userId": "15493020693052745367"
     },
     "user_tz": 480
    },
    "id": "2aq1MXAl4fiR"
   },
   "outputs": [],
   "source": [
    "# Backtest pairs trading strategy\n",
    "strategy = test_data.copy()\n",
    "strategy['Z_Score'] = test_spread_normalized\n",
    "strategy['Hedge_Ratio'] = rolling_hedge_ratios\n",
    "strategy['Signal'] = 0\n",
    "strategy['Position'] = 0\n",
    "strategy.dropna(inplace=True)\n",
    "cur_position = 0\n",
    "\n",
    "for t in range(1, len(strategy)):\n",
    "  # Enter long position if z-score is below -1\n",
    "  if strategy.iloc[t]['Z_Score'] < -1 and cur_position == 0:\n",
    "    strategy.loc[strategy.index[t], 'Signal'] = 1\n",
    "    cur_position = 1\n",
    "  # Enter short position if z-score is above 1\n",
    "  elif strategy.iloc[t]['Z_Score'] > 1 and cur_position == 0:\n",
    "    strategy.loc[strategy.index[t], 'Signal'] = -1\n",
    "    cur_position = -1\n",
    "  # Exit long position if z-score crosses back above 0\n",
    "  elif strategy.iloc[t]['Z_Score'] > 0 and cur_position == 1:\n",
    "    strategy.loc[strategy.index[t], 'Signal'] = -1\n",
    "    cur_position = 0\n",
    "  # Exit short position if z-score crosses back below 0\n",
    "  elif strategy.iloc[t]['Z_Score'] < 0 and cur_position == -1:\n",
    "    strategy.loc[strategy.index[t], 'Signal'] = 1\n",
    "    cur_position = 0\n",
    "\n",
    "  # Record current position\n",
    "  strategy.loc[strategy.index[t], 'Position'] = cur_position"
   ]
  },
  {
   "cell_type": "code",
   "execution_count": null,
   "metadata": {
    "colab": {
     "base_uri": "https://localhost:8080/",
     "height": 564
    },
    "executionInfo": {
     "elapsed": 270,
     "status": "ok",
     "timestamp": 1740114949189,
     "user": {
      "displayName": "Minseo Kim",
      "userId": "15493020693052745367"
     },
     "user_tz": 480
    },
    "id": "YIzYXTQNeKHE",
    "outputId": "a6344efe-a10a-4736-b304-7568a765ee16"
   },
   "outputs": [],
   "source": [
    "# Plot buy and sell signals\n",
    "buy_signals = strategy[strategy['Signal'] == 1]\n",
    "sell_signals = strategy[strategy['Signal'] == -1]\n",
    "\n",
    "plt.figure(figsize=(10, 6))\n",
    "plt.plot(test_spread_normalized.index, test_spread_normalized, label='Z-Score')\n",
    "plt.axhline(0, label='Mean', color='black')\n",
    "plt.axhline(1, label='+1', color='red', linestyle='--')\n",
    "plt.axhline(-1, label='-1', color='green', linestyle='--')\n",
    "plt.scatter(buy_signals.index, buy_signals['Z_Score'], label='Buy Signal', marker='^', color='green')\n",
    "plt.scatter(sell_signals.index, sell_signals['Z_Score'], label='Sell Signal', marker='v', color='red')\n",
    "plt.title('Normalized Test Spread with Buy and Sell Signals')\n",
    "plt.xlabel('Date')\n",
    "plt.ylabel('Z-Score')\n",
    "plt.legend()\n",
    "plt.show()"
   ]
  },
  {
   "cell_type": "code",
   "execution_count": null,
   "metadata": {
    "colab": {
     "base_uri": "https://localhost:8080/",
     "height": 582
    },
    "executionInfo": {
     "elapsed": 463,
     "status": "ok",
     "timestamp": 1740114952016,
     "user": {
      "displayName": "Minseo Kim",
      "userId": "15493020693052745367"
     },
     "user_tz": 480
    },
    "id": "OkmxrufIwtGf",
    "outputId": "44c934fb-2310-4168-96da-fd562f73d45c"
   },
   "outputs": [],
   "source": [
    "# Calculate and plot cumulative return\n",
    "strategy[f'{ticker_1}_Return'] = np.log(strategy[ticker_1] / strategy[ticker_1].shift(1))\n",
    "strategy[f'{ticker_2}_Return'] = np.log(strategy[ticker_2] / strategy[ticker_2].shift(1))\n",
    "strategy['Spread_Return'] = strategy[f'{ticker_2}_Return'] - strategy['Hedge_Ratio'].shift(1) * strategy[f'{ticker_1}_Return']\n",
    "strategy['Strategy_Return'] = strategy['Spread_Return'] * strategy['Position'].shift(1)\n",
    "strategy['Cum_Return'] = strategy['Strategy_Return'].fillna(0).cumsum().apply(np.exp)\n",
    "\n",
    "print(f'Cumulative Return: {strategy[\"Cum_Return\"].iloc[-1]:.2f}')\n",
    "\n",
    "plt.figure(figsize=(10,6))\n",
    "plt.plot(strategy.index, strategy['Cum_Return'])\n",
    "plt.title('Pairs Trading Strategy')\n",
    "plt.xlabel('Date')\n",
    "plt.ylabel('Cumulative Return')\n",
    "plt.show()"
   ]
  },
  {
   "cell_type": "code",
   "execution_count": null,
   "metadata": {
    "colab": {
     "base_uri": "https://localhost:8080/"
    },
    "executionInfo": {
     "elapsed": 60,
     "status": "ok",
     "timestamp": 1740114954354,
     "user": {
      "displayName": "Minseo Kim",
      "userId": "15493020693052745367"
     },
     "user_tz": 480
    },
    "id": "867lauv84pzE",
    "outputId": "e99879d7-0297-4a54-bf0f-0f22695eeedd"
   },
   "outputs": [],
   "source": [
    "# Calculate Sharpe ratio\n",
    "rf_annual = 0.04\n",
    "num_trading_days = 252\n",
    "rf_daily = (1 + rf_annual) ** (1 / num_trading_days) - 1\n",
    "\n",
    "excess_return = strategy['Strategy_Return'] - rf_daily\n",
    "sharpe_daily = excess_return.mean() / excess_return.std()\n",
    "sharpe_annual = sharpe_daily * np.sqrt(num_trading_days)\n",
    "\n",
    "print(f'Sharpe Ratio: {sharpe_annual:.2f}')"
   ]
  }
 ],
 "metadata": {
  "colab": {
   "authorship_tag": "ABX9TyP0O2+MtXo2MwI4Ugeck904",
   "provenance": []
  },
  "kernelspec": {
   "display_name": "Python 3",
   "name": "python3"
  },
  "language_info": {
   "name": "python"
  }
 },
 "nbformat": 4,
 "nbformat_minor": 0
}
