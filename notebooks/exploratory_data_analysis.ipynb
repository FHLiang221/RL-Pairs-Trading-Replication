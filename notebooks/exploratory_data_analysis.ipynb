{
 "cells": [
  {
   "cell_type": "markdown",
   "metadata": {},
   "source": [
    "# Exploratory Data Analysis\n",
    "\n",
    "This notebook explores the data for implementing the approach described in Yang and Malik (2024): \"Reinforcement Learning Pair Trading: A Dynamic Scaling Approach\". We're using BTCUSDT and ETHUSDT as our trading pair."
   ]
  },
  {
   "cell_type": "markdown",
   "metadata": {},
   "source": [
    "## 1. Imports and Setup"
   ]
  },
  {
   "cell_type": "code",
   "execution_count": null,
   "metadata": {},
   "outputs": [],
   "source": [
    "import pandas as pd\n",
    "import numpy as np\n",
    "import matplotlib.pyplot as plt\n",
    "import seaborn as sns\n",
    "from statsmodels.tsa.stattools import coint, adfuller\n",
    "import os\n",
    "%matplotlib inline\n",
    "\n",
    "# Set style for better visualizations\n",
    "plt.style.use('seaborn-v0_8-whitegrid')\n",
    "\n",
    "# Create docs directory for saving plots\n",
    "os.makedirs('docs', exist_ok=True)"
   ]
  },
  {
   "cell_type": "code",
   "execution_count": null,
   "metadata": {},
   "outputs": [],
   "source": [
    "print(\"Files in current directory:\", os.listdir())\n",
    "print(\"Current working directory:\", os.getcwd())"
   ]
  },
  {
   "cell_type": "markdown",
   "metadata": {},
   "source": [
    "## 2. Load Data\n",
    "\n",
    "We'll use the BTCUSDT and ETHUSDT 1-minute data collected from Binance.US API."
   ]
  },
  {
   "cell_type": "code",
   "execution_count": null,
   "metadata": {},
   "outputs": [],
   "source": [
    "# Load the data\n",
    "try:\n",
    "    # Go up one directory level and then into 'data'\n",
    "    btcusdt = pd.read_csv('../data/btcusdt_1m_raw.csv')\n",
    "    ethusdt = pd.read_csv('../data/ethusdt_1m_raw.csv')\n",
    "\n",
    "    # Basic data exploration\n",
    "    print(\"BTCUSDT data shape:\", btcusdt.shape)\n",
    "    print(\"ETHUSDT data shape:\", ethusdt.shape)\n",
    "\n",
    "    print(\"\\nBTCUSDT first 5 rows:\")\n",
    "    display(btcusdt.head())\n",
    "    \n",
    "    print(\"\\nETHUSDT first 5 rows:\")\n",
    "    display(ethusdt.head())\n",
    "except FileNotFoundError as e:\n",
    "    print(f\"Data files not found: {e}\")\n",
    "    print(\"Please run the data collection script first.\")"
   ]
  },
  {
   "cell_type": "markdown",
   "metadata": {},
   "source": [
    "## 3. Data Preparation\n",
    "\n",
    "Let's prepare the data for analysis by ensuring datetime indexes and proper data types."
   ]
  },
  {
   "cell_type": "code",
   "execution_count": null,
   "metadata": {},
   "outputs": [],
   "source": [
    "# Convert timestamp to datetime if not already done\n",
    "btcusdt['datetime'] = pd.to_datetime(btcusdt['datetime'])\n",
    "ethusdt['datetime'] = pd.to_datetime(ethusdt['datetime'])\n",
    "\n",
    "# Set datetime as index\n",
    "btcusdt.set_index('datetime', inplace=True)\n",
    "ethusdt.set_index('datetime', inplace=True)\n",
    "\n",
    "# Check data info\n",
    "print(\"BTCUSDT date range:\", btcusdt.index.min(), \"to\", btcusdt.index.max())\n",
    "print(\"ETHUSDT date range:\", ethusdt.index.min(), \"to\", ethusdt.index.max())"
   ]
  },
  {
   "cell_type": "markdown",
   "metadata": {},
   "source": [
    "## 4. Basic Statistics"
   ]
  },
  {
   "cell_type": "code",
   "execution_count": null,
   "metadata": {},
   "outputs": [],
   "source": [
    "# Calculate basic statistics\n",
    "btc_stats = btcusdt['close'].describe()\n",
    "eth_stats = ethusdt['close'].describe()\n",
    "\n",
    "stats_df = pd.DataFrame({\n",
    "    'BTC-USDT': btc_stats,\n",
    "    'ETH-USDT': eth_stats\n",
    "})\n",
    "\n",
    "# Display statistics\n",
    "display(stats_df)\n",
    "\n",
    "# Calculate returns\n",
    "btcusdt['returns'] = btcusdt['close'].pct_change()\n",
    "ethusdt['returns'] = ethusdt['close'].pct_change()\n",
    "\n",
    "# Calculate return statistics\n",
    "btc_return_stats = btcusdt['returns'].describe()\n",
    "eth_return_stats = ethusdt['returns'].describe()\n",
    "\n",
    "return_stats_df = pd.DataFrame({\n",
    "    'BTC-USDT Returns': btc_return_stats,\n",
    "    'ETH-USDT Returns': eth_return_stats\n",
    "})\n",
    "\n",
    "# Display return statistics\n",
    "display(return_stats_df)"
   ]
  },
  {
   "cell_type": "markdown",
   "metadata": {},
   "source": [
    "## 5. Price Visualization"
   ]
  },
  {
   "cell_type": "code",
   "execution_count": null,
   "metadata": {},
   "outputs": [],
   "source": [
    "# Visualize price movements\n",
    "plt.figure(figsize=(14, 7))\n",
    "\n",
    "# Create two y-axes\n",
    "ax1 = plt.gca()\n",
    "ax2 = ax1.twinx()\n",
    "\n",
    "# Plot BTC on left axis\n",
    "btcusdt['close'].plot(ax=ax1, color='blue', label='BTC-USDT')\n",
    "ax1.set_ylabel('BTC Price (USDT)', color='blue')\n",
    "\n",
    "# Plot ETH on right axis\n",
    "ethusdt['close'].plot(ax=ax2, color='orange', label='ETH-USDT')\n",
    "ax2.set_ylabel('ETH Price (USDT)', color='orange')\n",
    "\n",
    "# Add title and legend\n",
    "plt.title('BTC-USDT vs ETH-USDT Price Movement', fontsize=14)\n",
    "ax1.legend(loc='upper left')\n",
    "ax2.legend(loc='upper right')\n",
    "\n",
    "# Save and show\n",
    "plt.savefig('docs/price_movement.png', dpi=300, bbox_inches='tight')\n",
    "plt.show()\n",
    "\n",
    "# Plot returns\n",
    "plt.figure(figsize=(14, 7))\n",
    "plt.plot(btcusdt['returns'].dropna(), label='BTC-USDT Returns', alpha=0.7)\n",
    "plt.plot(ethusdt['returns'].dropna(), label='ETH-USDT Returns', alpha=0.7)\n",
    "plt.title('BTC-USDT vs ETH-USDT Returns', fontsize=14)\n",
    "plt.ylabel('Returns')\n",
    "plt.legend()\n",
    "plt.savefig('docs/returns.png', dpi=300, bbox_inches='tight')\n",
    "plt.show()"
   ]
  },
  {
   "cell_type": "markdown",
   "metadata": {},
   "source": [
    "## 6. Correlation and Cointegration Analysis"
   ]
  },
  {
   "cell_type": "code",
   "execution_count": null,
   "metadata": {},
   "outputs": [],
   "source": [
    "# Ensure we're working with common timestamps\n",
    "common_index = btcusdt.index.intersection(ethusdt.index)\n",
    "btc_aligned = btcusdt.loc[common_index]['close']\n",
    "eth_aligned = ethusdt.loc[common_index]['close']\n",
    "\n",
    "# Calculate price correlation\n",
    "price_correlation = btc_aligned.corr(eth_aligned)\n",
    "print(f\"Price correlation between BTC-USDT and ETH-USDT: {price_correlation:.4f}\")\n",
    "\n",
    "# Calculate returns correlation\n",
    "btc_returns_aligned = btcusdt.loc[common_index]['returns'].dropna()\n",
    "eth_returns_aligned = ethusdt.loc[common_index]['returns'].dropna()\n",
    "common_return_index = btc_returns_aligned.index.intersection(eth_returns_aligned.index)\n",
    "returns_correlation = btc_returns_aligned.loc[common_return_index].corr(eth_returns_aligned.loc[common_return_index])\n",
    "print(f\"Returns correlation between BTC-USDT and ETH-USDT: {returns_correlation:.4f}\")\n",
    "\n",
    "# Test for cointegration\n",
    "score, pvalue, _ = coint(btc_aligned.dropna(), eth_aligned.dropna())\n",
    "print(f\"Cointegration p-value: {pvalue:.4f}\")\n",
    "print(f\"Pairs are {'cointegrated' if pvalue < 0.05 else 'not cointegrated'} at 5% significance level\")\n",
    "\n",
    "# Plot correlation\n",
    "plt.figure(figsize=(10, 8))\n",
    "plt.scatter(btc_aligned, eth_aligned, alpha=0.3)\n",
    "plt.title(f'BTC-USDT vs ETH-USDT (Correlation: {price_correlation:.4f})', fontsize=14)\n",
    "plt.xlabel('BTC-USDT Price')\n",
    "plt.ylabel('ETH-USDT Price')\n",
    "plt.grid(True, alpha=0.3)\n",
    "plt.savefig('docs/correlation.png', dpi=300, bbox_inches='tight')\n",
    "plt.show()"
   ]
  },
  {
   "cell_type": "markdown",
   "metadata": {},
   "source": [
    "## 7. Price Ratio and Spread Analysis\n",
    "\n",
    "For pair trading, we need to examine the spread or ratio between the two assets."
   ]
  },
  {
   "cell_type": "code",
   "execution_count": null,
   "metadata": {},
   "outputs": [],
   "source": [
    "# Calculate price ratio (BTC/ETH)\n",
    "price_ratio = btc_aligned / eth_aligned\n",
    "\n",
    "# Visualize price ratio\n",
    "plt.figure(figsize=(14, 6))\n",
    "plt.plot(price_ratio)\n",
    "plt.title('BTC-USDT to ETH-USDT Price Ratio', fontsize=14)\n",
    "plt.ylabel('BTC/ETH Ratio')\n",
    "plt.axhline(y=price_ratio.mean(), color='r', linestyle='-', label=f'Mean: {price_ratio.mean():.2f}')\n",
    "plt.axhline(y=price_ratio.mean() + 2*price_ratio.std(), color='g', linestyle='--', label='Upper Threshold (2σ)')\n",
    "plt.axhline(y=price_ratio.mean() - 2*price_ratio.std(), color='g', linestyle='--', label='Lower Threshold (2σ)')\n",
    "plt.legend()\n",
    "plt.grid(True, alpha=0.3)\n",
    "plt.savefig('docs/price_ratio.png', dpi=300, bbox_inches='tight')\n",
    "plt.show()\n",
    "\n",
    "# Calculate log price ratio (log(BTC) - log(ETH))\n",
    "log_ratio = np.log(btc_aligned) - np.log(eth_aligned)\n",
    "\n",
    "# Test log ratio for stationarity (Augmented Dickey-Fuller test)\n",
    "adf_result = adfuller(log_ratio.dropna())\n",
    "print(f\"ADF Statistic: {adf_result[0]:.4f}\")\n",
    "print(f\"p-value: {adf_result[1]:.4f}\")\n",
    "print(f\"The log ratio is {'stationary' if adf_result[1] < 0.05 else 'non-stationary'} at 5% significance level\")\n",
    "\n",
    "# Visualize log ratio\n",
    "plt.figure(figsize=(14, 6))\n",
    "plt.plot(log_ratio)\n",
    "plt.title('Log Price Ratio (log(BTC) - log(ETH))', fontsize=14)\n",
    "plt.ylabel('Log Ratio')\n",
    "plt.axhline(y=log_ratio.mean(), color='r', linestyle='-', label=f'Mean: {log_ratio.mean():.4f}')\n",
    "plt.axhline(y=log_ratio.mean() + 2*log_ratio.std(), color='g', linestyle='--', label='Upper Threshold (2σ)')\n",
    "plt.axhline(y=log_ratio.mean() - 2*log_ratio.std(), color='g', linestyle='--', label='Lower Threshold (2σ)')\n",
    "plt.legend()\n",
    "plt.grid(True, alpha=0.3)\n",
    "plt.savefig('docs/log_ratio.png', dpi=300, bbox_inches='tight')\n",
    "plt.show()"
   ]
  },
  {
   "cell_type": "markdown",
   "metadata": {},
   "source": [
    "## 8. Z-Score Calculation for Pair Trading\n",
    "\n",
    "Following the methodology in the paper, we'll calculate the z-score using a rolling window approach."
   ]
  },
  {
   "cell_type": "code",
   "execution_count": null,
   "metadata": {},
   "outputs": [],
   "source": [
    "# Calculate z-score with rolling window (as described in the paper)\n",
    "window_size = 900  # As mentioned in paper\n",
    "rolling_mean = log_ratio.rolling(window=window_size).mean()\n",
    "rolling_std = log_ratio.rolling(window=window_size).std()\n",
    "z_score = (log_ratio - rolling_mean) / rolling_std\n",
    "\n",
    "# Visualize z-score\n",
    "plt.figure(figsize=(14, 6))\n",
    "plt.plot(z_score.dropna())\n",
    "plt.axhline(y=0, color='black', linestyle='-')\n",
    "plt.axhline(y=1.8, color='r', linestyle='--', label='Open Threshold (1.8)')\n",
    "plt.axhline(y=-1.8, color='r', linestyle='--')\n",
    "plt.axhline(y=0.4, color='g', linestyle='--', label='Close Threshold (0.4)')\n",
    "plt.axhline(y=-0.4, color='g', linestyle='--')\n",
    "plt.title('Z-score of BTC-USDT and ETH-USDT Log Ratio', fontsize=14)\n",
    "plt.legend()\n",
    "plt.grid(True, alpha=0.3)\n",
    "plt.savefig('docs/zscore.png', dpi=300, bbox_inches='tight')\n",
    "plt.show()"
   ]
  },
  {
   "cell_type": "markdown",
   "metadata": {},
   "source": [
    "## 9. Trading Signal Analysis\n",
    "\n",
    "Identify potential trading signals based on the z-score thresholds."
   ]
  },
  {
   "cell_type": "code",
   "execution_count": null,
   "metadata": {},
   "outputs": [],
   "source": [
    "# Analyze potential trading opportunities\n",
    "trading_zones = pd.DataFrame(index=z_score.dropna().index)\n",
    "trading_zones['z_score'] = z_score.dropna()\n",
    "trading_zones['long_entry'] = z_score.dropna() < -1.8  # Long when z-score is below lower threshold\n",
    "trading_zones['short_entry'] = z_score.dropna() > 1.8  # Short when z-score is above upper threshold\n",
    "trading_zones['long_exit'] = (z_score.dropna() > -0.4) & (z_score.dropna() < 0.4)  # Exit long when z-score is back in normal range\n",
    "trading_zones['short_exit'] = (z_score.dropna() > -0.4) & (z_score.dropna() < 0.4)  # Exit short when z-score is back in normal range\n",
    "\n",
    "# Count potential signals\n",
    "entry_signals = trading_zones['long_entry'].sum() + trading_zones['short_entry'].sum()\n",
    "exit_signals = trading_zones['long_exit'].sum() + trading_zones['short_exit'].sum()\n",
    "\n",
    "print(f\"Number of potential entry signals: {entry_signals}\")\n",
    "print(f\"Number of potential exit signals: {exit_signals}\")\n",
    "print(f\"Long entry signals: {trading_zones['long_entry'].sum()}\")\n",
    "print(f\"Short entry signals: {trading_zones['short_entry'].sum()}\")\n",
    "\n",
    "# Distribution of signals over time\n",
    "plt.figure(figsize=(14, 7))\n",
    "plt.plot(trading_zones['z_score'], color='gray', alpha=0.6, label='Z-score')\n",
    "plt.scatter(trading_zones[trading_zones['long_entry']].index, \n",
    "            trading_zones[trading_zones['long_entry']]['z_score'],\n",
    "            color='green', marker='^', label='Long Entry')\n",
    "plt.scatter(trading_zones[trading_zones['short_entry']].index, \n",
    "            trading_zones[trading_zones['short_entry']]['z_score'],\n",
    "            color='red', marker='v', label='Short Entry')\n",
    "plt.axhline(y=0, color='black', linestyle='-')\n",
    "plt.axhline(y=1.8, color='r', linestyle='--')\n",
    "plt.axhline(y=-1.8, color='r', linestyle='--')\n",
    "plt.axhline(y=0.4, color='g', linestyle='--')\n",
    "plt.axhline(y=-0.4, color='g', linestyle='--')\n",
    "plt.title('Trading Signals Based on Z-score', fontsize=14)\n",
    "plt.legend()\n",
    "plt.grid(True, alpha=0.3)\n",
    "plt.savefig('docs/trading_signals.png', dpi=300, bbox_inches='tight')\n",
    "plt.show()"
   ]
  },
  {
   "cell_type": "markdown",
   "metadata": {},
   "source": [
    "## 10. Trading Opportunity Distribution\n",
    "\n",
    "Let's analyze the distribution of trading opportunities over time."
   ]
  },
  {
   "cell_type": "code",
   "execution_count": null,
   "metadata": {},
   "outputs": [],
   "source": [
    "# Group by date to analyze trading opportunities by day\n",
    "trading_zones['date'] = trading_zones.index.date\n",
    "daily_opportunities = trading_zones.groupby('date')[['long_entry', 'short_entry']].sum()\n",
    "\n",
    "# Visualize daily opportunities\n",
    "plt.figure(figsize=(14, 6))\n",
    "daily_opportunities.plot(kind='bar', stacked=True)\n",
    "plt.title('Daily Trading Opportunities', fontsize=14)\n",
    "plt.ylabel('Number of Signals')\n",
    "plt.xlabel('Date')\n",
    "plt.xticks(rotation=45)\n",
    "plt.tight_layout()\n",
    "plt.savefig('docs/daily_opportunities.png', dpi=300, bbox_inches='tight')\n",
    "plt.show()\n",
    "\n",
    "# Calculate opportunity statistics by hour of day\n",
    "trading_zones['hour'] = trading_zones.index.hour\n",
    "hourly_opportunities = trading_zones.groupby('hour')[['long_entry', 'short_entry']].sum()\n",
    "\n",
    "# Visualize hourly opportunities\n",
    "plt.figure(figsize=(14, 6))\n",
    "hourly_opportunities.plot(kind='bar', stacked=True)\n",
    "plt.title('Trading Opportunities by Hour of Day', fontsize=14)\n",
    "plt.ylabel('Number of Signals')\n",
    "plt.xlabel('Hour of Day')\n",
    "plt.xticks(range(24))\n",
    "plt.grid(True, alpha=0.3)\n",
    "plt.savefig('docs/hourly_opportunities.png', dpi=300, bbox_inches='tight')\n",
    "plt.show()"
   ]
  },
  {
   "cell_type": "markdown",
   "metadata": {},
   "source": [
    "## 11. Summary and Next Steps\n",
    "\n",
    "Based on our exploratory data analysis, let's summarize what we've learned about our BTCUSDT and ETHUSDT pair for trading:"
   ]
  },
  {
   "cell_type": "code",
   "execution_count": null,
   "metadata": {},
   "outputs": [],
   "source": [
    "# Summary statistics\n",
    "summary = {\n",
    "    'Price Correlation': price_correlation,\n",
    "    'Returns Correlation': returns_correlation,\n",
    "    'Cointegration p-value': pvalue,\n",
    "    'Is Cointegrated (5% level)': pvalue < 0.05,\n",
    "    'Log Ratio Stationarity p-value': adf_result[1],\n",
    "    'Is Log Ratio Stationary (5% level)': adf_result[1] < 0.05,\n",
    "    'Number of Long Entry Signals': trading_zones['long_entry'].sum(),\n",
    "    'Number of Short Entry Signals': trading_zones['short_entry'].sum(),\n",
    "    'Trading Days Covered': len(daily_opportunities),\n",
    "    'Mean BTC/ETH Ratio': price_ratio.mean(),\n",
    "    'BTC/ETH Ratio Std Dev': price_ratio.std()\n",
    "}\n",
    "\n",
    "# Convert to DataFrame for nice display\n",
    "summary_df = pd.DataFrame(list(summary.items()), columns=['Metric', 'Value'])\n",
    "display(summary_df)"
   ]
  },
  {
   "cell_type": "markdown",
   "metadata": {},
   "source": [
    "### Next Steps:\n",
    "\n",
    "1. **Traditional Pair Trading Implementation**: Implement a traditional pair trading strategy using fixed thresholds as a baseline.\n",
    "\n",
    "2. **Reinforcement Learning Environment**: Design an RL environment for pair trading as described in the paper, including:\n",
    "   - Observation space: Position, Spread, and Zone\n",
    "   - Action space: Continuous value between -1 and 1 for investment quantity\n",
    "   - Reward structure: Portfolio reward, action reward, and transaction punishment\n",
    "\n",
    "3. **RL Model Training**: Train different RL models (A2C, PPO, DQN) and compare their performance.\n",
    "\n",
    "4. **Performance Evaluation**: Compare the performance of traditional pair trading vs. RL-based approaches.\n",
    "\n",
    "5. **Hyperparameter Tuning**: Optimize the models' performance through hyperparameter tuning."
   ]
  }
 ],
 "metadata": {
  "kernelspec": {
   "display_name": "rlpairs",
   "language": "python",
   "name": "python3"
  },
  "language_info": {
   "codemirror_mode": {
    "name": "ipython",
    "version": 3
   },
   "file_extension": ".py",
   "mimetype": "text/x-python",
   "name": "python",
   "nbconvert_exporter": "python",
   "pygments_lexer": "ipython3",
   "version": "3.9.21"
  }
 },
 "nbformat": 4,
 "nbformat_minor": 2
}
